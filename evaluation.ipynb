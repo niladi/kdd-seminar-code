{
 "cells": [
  {
   "cell_type": "code",
   "execution_count": 19,
   "metadata": {},
   "outputs": [
    {
     "name": "stdout",
     "output_type": "stream",
     "text": [
      "19464\n",
      "19464\n",
      "/Users/niladi/workspace/seminar-kdd/data/2024-05-14/MDOnly/KORE_50_DBpedia.ttl/TextRazor/a7542e21d3d55116ca5c88cc0660f6347e54a74a244856ad7951ee5f5b15e984.json\n"
     ]
    }
   ],
   "source": [
    "from clit_recommender.util import flat_map, iterate_dirs\n",
    "from clit_recommender import MD_ONLY\n",
    "\n",
    "\n",
    "files = list(\n",
    "    flat_map(\n",
    "        lambda x: iterate_dirs(x, False), flat_map(iterate_dirs, iterate_dirs(MD_ONLY))\n",
    "    )\n",
    ")\n",
    "x: str\n",
    "names = set(map(lambda x: \"/\".join(x.split(\"/\")[-2:]), files))\n",
    "\n",
    "\n",
    "print(len(files))\n",
    "print(len(names))\n",
    "print(files[0])"
   ]
  },
  {
   "cell_type": "code",
   "execution_count": 2,
   "metadata": {},
   "outputs": [],
   "source": [
    "from clit_recommender.clit_result import ClitResult\n",
    "\n",
    "with open(files[0], \"r\") as f:\n",
    "    j = f.read()\n",
    "    clit_result = ClitResult.from_json(j)"
   ]
  },
  {
   "cell_type": "code",
   "execution_count": 5,
   "metadata": {},
   "outputs": [
    {
     "data": {
      "text/plain": [
       "PipelineConfig(start_components=['MD1'], components={'md': [{'id': 'MD1', 'value': 'TextRazor'}], 'cg_ed': []}, example_id='md_combined_cged', end_components=['MD1'], display_name='MD + combined CG-ED', id=1, connections=[], pipeline_config_type='complex')"
      ]
     },
     "execution_count": 5,
     "metadata": {},
     "output_type": "execute_result"
    }
   ],
   "source": [
    "task = clit_result.experiment_tasks[0]\n",
    "task.pipeline_config"
   ]
  },
  {
   "cell_type": "code",
   "execution_count": 2,
   "metadata": {},
   "outputs": [
    {
     "name": "stdout",
     "output_type": "stream",
     "text": [
      "{'s': {'type': 'uri', 'value': 'http://aifb.kit.edu/clit/recommender/Babelfy'}}\n",
      "{'s': {'type': 'uri', 'value': 'http://aifb.kit.edu/clit/recommender/CLOCQ'}}\n",
      "{'s': {'type': 'uri', 'value': 'http://aifb.kit.edu/clit/recommender/DBpediaSpotlight'}}\n",
      "{'s': {'type': 'uri', 'value': 'http://aifb.kit.edu/clit/recommender/Falcon%202.0'}}\n",
      "{'s': {'type': 'uri', 'value': 'http://aifb.kit.edu/clit/recommender/OpenTapioca'}}\n",
      "{'s': {'type': 'uri', 'value': 'http://aifb.kit.edu/clit/recommender/REL%20MD%20%28.properties%29'}}\n",
      "{'s': {'type': 'uri', 'value': 'http://aifb.kit.edu/clit/recommender/REL'}}\n",
      "{'s': {'type': 'uri', 'value': 'http://aifb.kit.edu/clit/recommender/Refined%20MD%20%28.properties%29'}}\n",
      "{'s': {'type': 'uri', 'value': 'http://aifb.kit.edu/clit/recommender/Spacy%20MD%20%28.properties%29'}}\n",
      "{'s': {'type': 'uri', 'value': 'http://aifb.kit.edu/clit/recommender/TagMe'}}\n",
      "{'s': {'type': 'uri', 'value': 'http://aifb.kit.edu/clit/recommender/TextRazor'}}\n",
      "{'s': {'type': 'uri', 'value': 'http://aifb.kit.edu/clit/recommender/spaCy'}}\n",
      "{'s': {'type': 'uri', 'value': 'http://aifb.kit.edu/clit/recommender/EntityClassifierEULinker'}}\n",
      "{'s': {'type': 'uri', 'value': 'http://aifb.kit.edu/clit/recommender/FOX'}}\n"
     ]
    }
   ],
   "source": [
    "from SPARQLWrapper import SPARQLWrapper, JSON\n",
    "\n",
    "wrapper = SPARQLWrapper(\"http://localhost:7200/repositories/KDD\")\n",
    "wrapper.setReturnFormat(JSON)\n",
    "\n",
    "\n",
    "wrapper.setQuery(\n",
    "    \"\"\"\n",
    "        prefix aifb: <http://aifb.kit.edu/clit/recommender/>                 \n",
    "\n",
    "        select ?s where { \n",
    "\t        ?s a aifb:ClitMdSystem .\n",
    "        } limit 100 \n",
    "    \"\"\"\n",
    ")\n",
    "\n",
    "try:\n",
    "    ret = wrapper.queryAndConvert()\n",
    "\n",
    "    for r in ret[\"results\"][\"bindings\"]:\n",
    "        print(r)\n",
    "except Exception as e:\n",
    "    print(e)"
   ]
  },
  {
   "cell_type": "code",
   "execution_count": 6,
   "metadata": {},
   "outputs": [
    {
     "name": "stdout",
     "output_type": "stream",
     "text": [
      "{'m': {'type': 'uri', 'value': 'http://aifb.kit.edu/clit/recommender/Babelfy/cad137737d8ee3d1c6655f87b41d21714bec12464b06904192807f19a4b63286.json?mention=Harper&offset=67'}, 's': {'type': 'uri', 'value': 'http://aifb.kit.edu/clit/recommender/Babelfy'}}\n",
      "{'m': {'type': 'uri', 'value': 'http://aifb.kit.edu/clit/recommender/Babelfy/cad137737d8ee3d1c6655f87b41d21714bec12464b06904192807f19a4b63286.json?mention=Romeo&offset=50'}, 's': {'type': 'uri', 'value': 'http://aifb.kit.edu/clit/recommender/Babelfy'}}\n",
      "{'m': {'type': 'uri', 'value': 'http://aifb.kit.edu/clit/recommender/Babelfy/cad137737d8ee3d1c6655f87b41d21714bec12464b06904192807f19a4b63286.json?mention=Seven&offset=74'}, 's': {'type': 'uri', 'value': 'http://aifb.kit.edu/clit/recommender/Babelfy'}}\n",
      "{'m': {'type': 'uri', 'value': 'http://aifb.kit.edu/clit/recommender/Babelfy/cad137737d8ee3d1c6655f87b41d21714bec12464b06904192807f19a4b63286.json?mention=Victoria&offset=10'}, 's': {'type': 'uri', 'value': 'http://aifb.kit.edu/clit/recommender/Babelfy'}}\n",
      "{'m': {'type': 'uri', 'value': 'http://aifb.kit.edu/clit/recommender/Babelfy/cad137737d8ee3d1c6655f87b41d21714bec12464b06904192807f19a4b63286.json?mention=children&offset=31'}, 's': {'type': 'uri', 'value': 'http://aifb.kit.edu/clit/recommender/Babelfy'}}\n",
      "{'m': {'type': 'uri', 'value': 'http://aifb.kit.edu/clit/recommender/DBpediaSpotlight/cad137737d8ee3d1c6655f87b41d21714bec12464b06904192807f19a4b63286.json?mention=Brooklyn&offset=40'}, 's': {'type': 'uri', 'value': 'http://aifb.kit.edu/clit/recommender/DBpediaSpotlight'}}\n",
      "{'m': {'type': 'uri', 'value': 'http://aifb.kit.edu/clit/recommender/DBpediaSpotlight/cad137737d8ee3d1c6655f87b41d21714bec12464b06904192807f19a4b63286.json?mention=Cruz&offset=57'}, 's': {'type': 'uri', 'value': 'http://aifb.kit.edu/clit/recommender/DBpediaSpotlight'}}\n",
      "{'m': {'type': 'uri', 'value': 'http://aifb.kit.edu/clit/recommender/DBpediaSpotlight/cad137737d8ee3d1c6655f87b41d21714bec12464b06904192807f19a4b63286.json?mention=Seven&offset=74'}, 's': {'type': 'uri', 'value': 'http://aifb.kit.edu/clit/recommender/DBpediaSpotlight'}}\n",
      "{'m': {'type': 'uri', 'value': 'http://aifb.kit.edu/clit/recommender/DBpediaSpotlight/cad137737d8ee3d1c6655f87b41d21714bec12464b06904192807f19a4b63286.json?mention=Victoria&offset=10'}, 's': {'type': 'uri', 'value': 'http://aifb.kit.edu/clit/recommender/DBpediaSpotlight'}}\n",
      "{'m': {'type': 'uri', 'value': 'http://aifb.kit.edu/clit/recommender/Falcon%202.0/cad137737d8ee3d1c6655f87b41d21714bec12464b06904192807f19a4b63286.json?mention=Harper%20Seven&offset=67'}, 's': {'type': 'uri', 'value': 'http://aifb.kit.edu/clit/recommender/Falcon%202.0'}}\n",
      "{'m': {'type': 'uri', 'value': 'http://aifb.kit.edu/clit/recommender/Falcon%202.0/cad137737d8ee3d1c6655f87b41d21714bec12464b06904192807f19a4b63286.json?mention=children%20Brooklyn%2C%20Romeo%2C%20Cruz%2C&offset=31'}, 's': {'type': 'uri', 'value': 'http://aifb.kit.edu/clit/recommender/Falcon%202.0'}}\n",
      "{'m': {'type': 'uri', 'value': 'http://aifb.kit.edu/clit/recommender/Falcon%202.0/cad137737d8ee3d1c6655f87b41d21714bec12464b06904192807f19a4b63286.json?mention=david%20and%20Victoria&offset=-1'}, 's': {'type': 'uri', 'value': 'http://aifb.kit.edu/clit/recommender/Falcon%202.0'}}\n",
      "{'m': {'type': 'uri', 'value': 'http://aifb.kit.edu/clit/recommender/REL%20MD%20%28.properties%29/cad137737d8ee3d1c6655f87b41d21714bec12464b06904192807f19a4b63286.json?mention=Brooklyn&offset=40'}, 's': {'type': 'uri', 'value': 'http://aifb.kit.edu/clit/recommender/REL%20MD%20%28.properties%29'}}\n",
      "{'m': {'type': 'uri', 'value': 'http://aifb.kit.edu/clit/recommender/REL%20MD%20%28.properties%29/cad137737d8ee3d1c6655f87b41d21714bec12464b06904192807f19a4b63286.json?mention=Cruz&offset=57'}, 's': {'type': 'uri', 'value': 'http://aifb.kit.edu/clit/recommender/REL%20MD%20%28.properties%29'}}\n",
      "{'m': {'type': 'uri', 'value': 'http://aifb.kit.edu/clit/recommender/REL%20MD%20%28.properties%29/cad137737d8ee3d1c6655f87b41d21714bec12464b06904192807f19a4b63286.json?mention=David&offset=0'}, 's': {'type': 'uri', 'value': 'http://aifb.kit.edu/clit/recommender/REL%20MD%20%28.properties%29'}}\n",
      "{'m': {'type': 'uri', 'value': 'http://aifb.kit.edu/clit/recommender/REL%20MD%20%28.properties%29/cad137737d8ee3d1c6655f87b41d21714bec12464b06904192807f19a4b63286.json?mention=Romeo&offset=50'}, 's': {'type': 'uri', 'value': 'http://aifb.kit.edu/clit/recommender/REL%20MD%20%28.properties%29'}}\n",
      "{'m': {'type': 'uri', 'value': 'http://aifb.kit.edu/clit/recommender/REL%20MD%20%28.properties%29/cad137737d8ee3d1c6655f87b41d21714bec12464b06904192807f19a4b63286.json?mention=Victoria&offset=10'}, 's': {'type': 'uri', 'value': 'http://aifb.kit.edu/clit/recommender/REL%20MD%20%28.properties%29'}}\n",
      "{'m': {'type': 'uri', 'value': 'http://aifb.kit.edu/clit/recommender/REL/cad137737d8ee3d1c6655f87b41d21714bec12464b06904192807f19a4b63286.json?mention=Brooklyn&offset=40'}, 's': {'type': 'uri', 'value': 'http://aifb.kit.edu/clit/recommender/REL'}}\n",
      "{'m': {'type': 'uri', 'value': 'http://aifb.kit.edu/clit/recommender/REL/cad137737d8ee3d1c6655f87b41d21714bec12464b06904192807f19a4b63286.json?mention=Cruz&offset=57'}, 's': {'type': 'uri', 'value': 'http://aifb.kit.edu/clit/recommender/REL'}}\n",
      "{'m': {'type': 'uri', 'value': 'http://aifb.kit.edu/clit/recommender/REL/cad137737d8ee3d1c6655f87b41d21714bec12464b06904192807f19a4b63286.json?mention=David&offset=0'}, 's': {'type': 'uri', 'value': 'http://aifb.kit.edu/clit/recommender/REL'}}\n",
      "{'m': {'type': 'uri', 'value': 'http://aifb.kit.edu/clit/recommender/REL/cad137737d8ee3d1c6655f87b41d21714bec12464b06904192807f19a4b63286.json?mention=Harper&offset=67'}, 's': {'type': 'uri', 'value': 'http://aifb.kit.edu/clit/recommender/REL'}}\n",
      "{'m': {'type': 'uri', 'value': 'http://aifb.kit.edu/clit/recommender/REL/cad137737d8ee3d1c6655f87b41d21714bec12464b06904192807f19a4b63286.json?mention=Romeo&offset=50'}, 's': {'type': 'uri', 'value': 'http://aifb.kit.edu/clit/recommender/REL'}}\n",
      "{'m': {'type': 'uri', 'value': 'http://aifb.kit.edu/clit/recommender/REL/cad137737d8ee3d1c6655f87b41d21714bec12464b06904192807f19a4b63286.json?mention=Victoria&offset=10'}, 's': {'type': 'uri', 'value': 'http://aifb.kit.edu/clit/recommender/REL'}}\n",
      "{'m': {'type': 'uri', 'value': 'http://aifb.kit.edu/clit/recommender/Refined%20MD%20%28.properties%29/cad137737d8ee3d1c6655f87b41d21714bec12464b06904192807f19a4b63286.json?mention=Brooklyn&offset=40'}, 's': {'type': 'uri', 'value': 'http://aifb.kit.edu/clit/recommender/Refined%20MD%20%28.properties%29'}}\n",
      "{'m': {'type': 'uri', 'value': 'http://aifb.kit.edu/clit/recommender/Refined%20MD%20%28.properties%29/cad137737d8ee3d1c6655f87b41d21714bec12464b06904192807f19a4b63286.json?mention=Cruz&offset=57'}, 's': {'type': 'uri', 'value': 'http://aifb.kit.edu/clit/recommender/Refined%20MD%20%28.properties%29'}}\n",
      "{'m': {'type': 'uri', 'value': 'http://aifb.kit.edu/clit/recommender/Refined%20MD%20%28.properties%29/cad137737d8ee3d1c6655f87b41d21714bec12464b06904192807f19a4b63286.json?mention=David&offset=0'}, 's': {'type': 'uri', 'value': 'http://aifb.kit.edu/clit/recommender/Refined%20MD%20%28.properties%29'}}\n",
      "{'m': {'type': 'uri', 'value': 'http://aifb.kit.edu/clit/recommender/Refined%20MD%20%28.properties%29/cad137737d8ee3d1c6655f87b41d21714bec12464b06904192807f19a4b63286.json?mention=Harper&offset=67'}, 's': {'type': 'uri', 'value': 'http://aifb.kit.edu/clit/recommender/Refined%20MD%20%28.properties%29'}}\n",
      "{'m': {'type': 'uri', 'value': 'http://aifb.kit.edu/clit/recommender/Refined%20MD%20%28.properties%29/cad137737d8ee3d1c6655f87b41d21714bec12464b06904192807f19a4b63286.json?mention=Romeo&offset=50'}, 's': {'type': 'uri', 'value': 'http://aifb.kit.edu/clit/recommender/Refined%20MD%20%28.properties%29'}}\n",
      "{'m': {'type': 'uri', 'value': 'http://aifb.kit.edu/clit/recommender/Refined%20MD%20%28.properties%29/cad137737d8ee3d1c6655f87b41d21714bec12464b06904192807f19a4b63286.json?mention=Seven&offset=74'}, 's': {'type': 'uri', 'value': 'http://aifb.kit.edu/clit/recommender/Refined%20MD%20%28.properties%29'}}\n",
      "{'m': {'type': 'uri', 'value': 'http://aifb.kit.edu/clit/recommender/Refined%20MD%20%28.properties%29/cad137737d8ee3d1c6655f87b41d21714bec12464b06904192807f19a4b63286.json?mention=Victoria&offset=10'}, 's': {'type': 'uri', 'value': 'http://aifb.kit.edu/clit/recommender/Refined%20MD%20%28.properties%29'}}\n",
      "{'m': {'type': 'uri', 'value': 'http://aifb.kit.edu/clit/recommender/Spacy%20MD%20%28.properties%29/cad137737d8ee3d1c6655f87b41d21714bec12464b06904192807f19a4b63286.json?mention=Brooklyn&offset=40'}, 's': {'type': 'uri', 'value': 'http://aifb.kit.edu/clit/recommender/Spacy%20MD%20%28.properties%29'}}\n",
      "{'m': {'type': 'uri', 'value': 'http://aifb.kit.edu/clit/recommender/Spacy%20MD%20%28.properties%29/cad137737d8ee3d1c6655f87b41d21714bec12464b06904192807f19a4b63286.json?mention=Cruz&offset=57'}, 's': {'type': 'uri', 'value': 'http://aifb.kit.edu/clit/recommender/Spacy%20MD%20%28.properties%29'}}\n",
      "{'m': {'type': 'uri', 'value': 'http://aifb.kit.edu/clit/recommender/Spacy%20MD%20%28.properties%29/cad137737d8ee3d1c6655f87b41d21714bec12464b06904192807f19a4b63286.json?mention=David&offset=0'}, 's': {'type': 'uri', 'value': 'http://aifb.kit.edu/clit/recommender/Spacy%20MD%20%28.properties%29'}}\n",
      "{'m': {'type': 'uri', 'value': 'http://aifb.kit.edu/clit/recommender/Spacy%20MD%20%28.properties%29/cad137737d8ee3d1c6655f87b41d21714bec12464b06904192807f19a4b63286.json?mention=Harper%20Seven&offset=67'}, 's': {'type': 'uri', 'value': 'http://aifb.kit.edu/clit/recommender/Spacy%20MD%20%28.properties%29'}}\n",
      "{'m': {'type': 'uri', 'value': 'http://aifb.kit.edu/clit/recommender/Spacy%20MD%20%28.properties%29/cad137737d8ee3d1c6655f87b41d21714bec12464b06904192807f19a4b63286.json?mention=Romeo&offset=50'}, 's': {'type': 'uri', 'value': 'http://aifb.kit.edu/clit/recommender/Spacy%20MD%20%28.properties%29'}}\n",
      "{'m': {'type': 'uri', 'value': 'http://aifb.kit.edu/clit/recommender/Spacy%20MD%20%28.properties%29/cad137737d8ee3d1c6655f87b41d21714bec12464b06904192807f19a4b63286.json?mention=Victoria&offset=10'}, 's': {'type': 'uri', 'value': 'http://aifb.kit.edu/clit/recommender/Spacy%20MD%20%28.properties%29'}}\n",
      "{'m': {'type': 'uri', 'value': 'http://aifb.kit.edu/clit/recommender/TagMe/cad137737d8ee3d1c6655f87b41d21714bec12464b06904192807f19a4b63286.json?mention=Brooklyn&offset=40'}, 's': {'type': 'uri', 'value': 'http://aifb.kit.edu/clit/recommender/TagMe'}}\n",
      "{'m': {'type': 'uri', 'value': 'http://aifb.kit.edu/clit/recommender/TagMe/cad137737d8ee3d1c6655f87b41d21714bec12464b06904192807f19a4b63286.json?mention=Cruz&offset=57'}, 's': {'type': 'uri', 'value': 'http://aifb.kit.edu/clit/recommender/TagMe'}}\n",
      "{'m': {'type': 'uri', 'value': 'http://aifb.kit.edu/clit/recommender/TagMe/cad137737d8ee3d1c6655f87b41d21714bec12464b06904192807f19a4b63286.json?mention=David&offset=0'}, 's': {'type': 'uri', 'value': 'http://aifb.kit.edu/clit/recommender/TagMe'}}\n",
      "{'m': {'type': 'uri', 'value': 'http://aifb.kit.edu/clit/recommender/TagMe/cad137737d8ee3d1c6655f87b41d21714bec12464b06904192807f19a4b63286.json?mention=Harper&offset=67'}, 's': {'type': 'uri', 'value': 'http://aifb.kit.edu/clit/recommender/TagMe'}}\n",
      "{'m': {'type': 'uri', 'value': 'http://aifb.kit.edu/clit/recommender/TagMe/cad137737d8ee3d1c6655f87b41d21714bec12464b06904192807f19a4b63286.json?mention=Romeo&offset=50'}, 's': {'type': 'uri', 'value': 'http://aifb.kit.edu/clit/recommender/TagMe'}}\n",
      "{'m': {'type': 'uri', 'value': 'http://aifb.kit.edu/clit/recommender/TagMe/cad137737d8ee3d1c6655f87b41d21714bec12464b06904192807f19a4b63286.json?mention=Seven&offset=74'}, 's': {'type': 'uri', 'value': 'http://aifb.kit.edu/clit/recommender/TagMe'}}\n",
      "{'m': {'type': 'uri', 'value': 'http://aifb.kit.edu/clit/recommender/TagMe/cad137737d8ee3d1c6655f87b41d21714bec12464b06904192807f19a4b63286.json?mention=Victoria&offset=10'}, 's': {'type': 'uri', 'value': 'http://aifb.kit.edu/clit/recommender/TagMe'}}\n",
      "{'m': {'type': 'uri', 'value': 'http://aifb.kit.edu/clit/recommender/TagMe/cad137737d8ee3d1c6655f87b41d21714bec12464b06904192807f19a4b63286.json?mention=children&offset=31'}, 's': {'type': 'uri', 'value': 'http://aifb.kit.edu/clit/recommender/TagMe'}}\n",
      "{'m': {'type': 'uri', 'value': 'http://aifb.kit.edu/clit/recommender/TextRazor/cad137737d8ee3d1c6655f87b41d21714bec12464b06904192807f19a4b63286.json?mention=Brooklyn&offset=40'}, 's': {'type': 'uri', 'value': 'http://aifb.kit.edu/clit/recommender/TextRazor'}}\n",
      "{'m': {'type': 'uri', 'value': 'http://aifb.kit.edu/clit/recommender/TextRazor/cad137737d8ee3d1c6655f87b41d21714bec12464b06904192807f19a4b63286.json?mention=Cruz&offset=57'}, 's': {'type': 'uri', 'value': 'http://aifb.kit.edu/clit/recommender/TextRazor'}}\n",
      "{'m': {'type': 'uri', 'value': 'http://aifb.kit.edu/clit/recommender/TextRazor/cad137737d8ee3d1c6655f87b41d21714bec12464b06904192807f19a4b63286.json?mention=David&offset=0'}, 's': {'type': 'uri', 'value': 'http://aifb.kit.edu/clit/recommender/TextRazor'}}\n",
      "{'m': {'type': 'uri', 'value': 'http://aifb.kit.edu/clit/recommender/TextRazor/cad137737d8ee3d1c6655f87b41d21714bec12464b06904192807f19a4b63286.json?mention=Harper%20Seven&offset=67'}, 's': {'type': 'uri', 'value': 'http://aifb.kit.edu/clit/recommender/TextRazor'}}\n",
      "{'m': {'type': 'uri', 'value': 'http://aifb.kit.edu/clit/recommender/TextRazor/cad137737d8ee3d1c6655f87b41d21714bec12464b06904192807f19a4b63286.json?mention=Romeo&offset=50'}, 's': {'type': 'uri', 'value': 'http://aifb.kit.edu/clit/recommender/TextRazor'}}\n",
      "{'m': {'type': 'uri', 'value': 'http://aifb.kit.edu/clit/recommender/TextRazor/cad137737d8ee3d1c6655f87b41d21714bec12464b06904192807f19a4b63286.json?mention=Victoria&offset=10'}, 's': {'type': 'uri', 'value': 'http://aifb.kit.edu/clit/recommender/TextRazor'}}\n"
     ]
    }
   ],
   "source": [
    "from SPARQLWrapper import SPARQLWrapper, JSON\n",
    "\n",
    "wrapper = SPARQLWrapper(\"http://localhost:7200/repositories/KDD\")\n",
    "wrapper.setReturnFormat(JSON)\n",
    "\n",
    "\n",
    "wrapper.setQuery(\n",
    "    \"\"\"\n",
    "        prefix aifb: <http://aifb.kit.edu/clit/recommender/>\n",
    "        prefix nif: <http://persistence.uni-leipzig.org/nlp2rdf/ontologies/nif-core#>               \n",
    "\n",
    "        select * where { \n",
    "            ?m nif:referenceContext <http://www.mpi-inf.mpg.de/yago-naga/aida/download/KORE50.tar.gz/AIDA.tsv/CEL01#char=0,> .\n",
    "            ?m a aifb:ClitResult .\n",
    "            ?m aifb:ofSystem ?s .\n",
    "        } limit 100 \n",
    "    \"\"\"\n",
    ")\n",
    "\n",
    "try:\n",
    "    ret = wrapper.queryAndConvert()\n",
    "\n",
    "    for r in ret[\"results\"][\"bindings\"]:\n",
    "        print(r)\n",
    "except Exception as e:\n",
    "    print(e)"
   ]
  },
  {
   "cell_type": "code",
   "execution_count": 12,
   "metadata": {},
   "outputs": [
    {
     "name": "stdout",
     "output_type": "stream",
     "text": [
      "{'count': {'datatype': 'http://www.w3.org/2001/XMLSchema#integer', 'type': 'literal', 'value': '2172'}}\n"
     ]
    }
   ],
   "source": [
    "from SPARQLWrapper import SPARQLWrapper, JSON\n",
    "\n",
    "wrapper = SPARQLWrapper(\"http://localhost:7200/repositories/KDD\", returnFormat=JSON)\n",
    "\n",
    "\n",
    "wrapper.setQuery(\n",
    "    \"\"\"\n",
    "        prefix aifb: <http://aifb.kit.edu/clit/recommender/>\n",
    "        prefix nif: <http://persistence.uni-leipzig.org/nlp2rdf/ontologies/nif-core#>               \n",
    "\n",
    "        select (count(distinct(?m)) as ?count) \n",
    "        where { \n",
    "            ?m a nif:Context .\n",
    "        }  \n",
    "    \"\"\"\n",
    ")\n",
    "\n",
    "try:\n",
    "    ret = wrapper.queryAndConvert()\n",
    "\n",
    "    for r in ret[\"results\"][\"bindings\"]:\n",
    "        print(r)\n",
    "except Exception as e:\n",
    "    print(e)"
   ]
  },
  {
   "cell_type": "code",
   "execution_count": null,
   "metadata": {},
   "outputs": [],
   "source": []
  }
 ],
 "metadata": {
  "kernelspec": {
   "display_name": "kdd-seminar",
   "language": "python",
   "name": "python3"
  },
  "language_info": {
   "codemirror_mode": {
    "name": "ipython",
    "version": 3
   },
   "file_extension": ".py",
   "mimetype": "text/x-python",
   "name": "python",
   "nbconvert_exporter": "python",
   "pygments_lexer": "ipython3",
   "version": "3.12.3"
  }
 },
 "nbformat": 4,
 "nbformat_minor": 2
}
