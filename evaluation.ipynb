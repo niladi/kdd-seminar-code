{
 "cells": [
  {
   "cell_type": "code",
   "execution_count": 19,
   "metadata": {},
   "outputs": [
    {
     "name": "stdout",
     "output_type": "stream",
     "text": [
      "19464\n",
      "19464\n",
      "/Users/niladi/workspace/seminar-kdd/data/2024-05-14/MDOnly/KORE_50_DBpedia.ttl/TextRazor/a7542e21d3d55116ca5c88cc0660f6347e54a74a244856ad7951ee5f5b15e984.json\n"
     ]
    }
   ],
   "source": [
    "from clit_recommender.util import flat_map, iterate_dirs\n",
    "from clit_recommender import MD_ONLY\n",
    "\n",
    "\n",
    "files = list(\n",
    "    flat_map(\n",
    "        lambda x: iterate_dirs(x, False), flat_map(iterate_dirs, iterate_dirs(MD_ONLY))\n",
    "    )\n",
    ")\n",
    "x: str\n",
    "names = set(map(lambda x: \"/\".join(x.split(\"/\")[-2:]), files))\n",
    "\n",
    "\n",
    "print(len(files))\n",
    "print(len(names))\n",
    "print(files[0])"
   ]
  },
  {
   "cell_type": "code",
   "execution_count": 2,
   "metadata": {},
   "outputs": [],
   "source": [
    "from clit_recommender.clit_result import ClitResult\n",
    "\n",
    "with open(files[0], \"r\") as f:\n",
    "    j = f.read()\n",
    "    clit_result = ClitResult.from_json(j)"
   ]
  },
  {
   "cell_type": "code",
   "execution_count": 5,
   "metadata": {},
   "outputs": [
    {
     "data": {
      "text/plain": [
       "PipelineConfig(start_components=['MD1'], components={'md': [{'id': 'MD1', 'value': 'TextRazor'}], 'cg_ed': []}, example_id='md_combined_cged', end_components=['MD1'], display_name='MD + combined CG-ED', id=1, connections=[], pipeline_config_type='complex')"
      ]
     },
     "execution_count": 5,
     "metadata": {},
     "output_type": "execute_result"
    }
   ],
   "source": [
    "task = clit_result.experiment_tasks[0]\n",
    "task.pipeline_config"
   ]
  },
  {
   "cell_type": "code",
   "execution_count": null,
   "metadata": {},
   "outputs": [],
   "source": []
  }
 ],
 "metadata": {
  "kernelspec": {
   "display_name": "kdd-seminar",
   "language": "python",
   "name": "python3"
  },
  "language_info": {
   "codemirror_mode": {
    "name": "ipython",
    "version": 3
   },
   "file_extension": ".py",
   "mimetype": "text/x-python",
   "name": "python",
   "nbconvert_exporter": "python",
   "pygments_lexer": "ipython3",
   "version": "3.12.3"
  }
 },
 "nbformat": 4,
 "nbformat_minor": 2
}
