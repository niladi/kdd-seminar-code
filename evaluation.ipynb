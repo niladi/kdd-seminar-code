{
 "cells": [
  {
   "cell_type": "code",
   "execution_count": 1,
   "metadata": {},
   "outputs": [
    {
     "name": "stdout",
     "output_type": "stream",
     "text": [
      "19464\n",
      "/Users/niladi/workspace/seminar-kdd/data/2024-05-14/MDOnly/KORE_50_DBpedia.ttl/TextRazor/a7542e21d3d55116ca5c88cc0660f6347e54a74a244856ad7951ee5f5b15e984.json\n"
     ]
    }
   ],
   "source": [
    "from clit_recommender.util import flat_map, iterate_dirs\n",
    "from clit_recommender import MD_ONLY\n",
    "\n",
    "\n",
    "files = list(\n",
    "    flat_map(\n",
    "        lambda x: iterate_dirs(x, False), flat_map(iterate_dirs, iterate_dirs(MD_ONLY))\n",
    "    )\n",
    ")\n",
    "\n",
    "\n",
    "print(len(files))\n",
    "print(files[0])"
   ]
  },
  {
   "cell_type": "code",
   "execution_count": 2,
   "metadata": {},
   "outputs": [],
   "source": [
    "from clit_recommender.clit_result import ClitResult\n",
    "\n",
    "with open(files[0], \"r\") as f:\n",
    "    j = f.read()\n",
    "    clit_result = ClitResult.from_json(j)"
   ]
  },
  {
   "cell_type": "code",
   "execution_count": 5,
   "metadata": {},
   "outputs": [
    {
     "data": {
      "text/plain": [
       "PipelineConfig(start_components=['MD1'], components={'md': [{'id': 'MD1', 'value': 'TextRazor'}], 'cg_ed': []}, example_id='md_combined_cged', end_components=['MD1'], display_name='MD + combined CG-ED', id=1, connections=[], pipeline_config_type='complex')"
      ]
     },
     "execution_count": 5,
     "metadata": {},
     "output_type": "execute_result"
    }
   ],
   "source": [
    "task = clit_result.experiment_tasks[0]\n",
    "task.pipeline_config"
   ]
  },
  {
   "cell_type": "code",
   "execution_count": 11,
   "metadata": {},
   "outputs": [
    {
     "name": "stdout",
     "output_type": "stream",
     "text": [
      "Can't Parse dataset .DS_Store\n",
      "Dataset: KORE_50_DBpedia.ttl\n",
      "System: TextRazor\n",
      "\n",
      "                        SELECT ?context\n",
      "                        WHERE {\n",
      "                            \n",
      "                            ?context nif:isString \"Haug congratulated Red Bull.\" .\n",
      "                        }\n",
      "                    \n"
     ]
    },
    {
     "ename": "AssertionError",
     "evalue": "",
     "output_type": "error",
     "traceback": [
      "\u001b[0;31m---------------------------------------------------------------------------\u001b[0m",
      "\u001b[0;31mAssertionError\u001b[0m                            Traceback (most recent call last)",
      "Cell \u001b[0;32mIn[11], line 52\u001b[0m\n\u001b[1;32m     50\u001b[0m \u001b[38;5;28;01mfor\u001b[39;00m r \u001b[38;5;129;01min\u001b[39;00m res:\n\u001b[1;32m     51\u001b[0m     \u001b[38;5;28mprint\u001b[39m(r)\n\u001b[0;32m---> 52\u001b[0m \u001b[38;5;28;01massert\u001b[39;00m \u001b[38;5;28mlen\u001b[39m(res) \u001b[38;5;241m==\u001b[39m \u001b[38;5;241m1\u001b[39m\n\u001b[1;32m     53\u001b[0m \u001b[38;5;28mprint\u001b[39m(res)\n\u001b[1;32m     54\u001b[0m exit()\n",
      "\u001b[0;31mAssertionError\u001b[0m: "
     ]
    }
   ],
   "source": [
    "from pynif import NIFCollection\n",
    "from clit_recommender import DATASETS_PATH, MD_ONLY\n",
    "from os.path import isdir\n",
    "from rdflib import Graph, Namespace\n",
    "from os import listdir\n",
    "from clit_recommender.clit_result import ClitResult, Document, ExperimentTask, Mention\n",
    "from clit_recommender.util import flat_map\n",
    "\n",
    "namespace = Namespace(\"http://aifb.kit.edu/clit/recommender\")\n",
    "\n",
    "\n",
    "for dataset in listdir(DATASETS_PATH):\n",
    "    dataset_path = f\"{DATASETS_PATH}/{dataset}\"\n",
    "    g = Graph()\n",
    "    g.bind(\"aifb\", namespace)\n",
    "    try:\n",
    "        g.parse(dataset_path, format=\"ttl\")\n",
    "        print(\"Dataset:\", dataset)\n",
    "    except:\n",
    "        print(\"Can't Parse dataset\", dataset)\n",
    "        continue\n",
    "    for system in listdir(f\"{MD_ONLY}/{dataset}\"):\n",
    "        if not isdir(f\"{MD_ONLY}/{dataset}/{system}\"):\n",
    "            continue\n",
    "        print(\"System:\", system)\n",
    "        for experiment in listdir(f\"{MD_ONLY}/{dataset}/{system}\"):\n",
    "            clit_result: ClitResult\n",
    "            try:\n",
    "                with open(f\"{MD_ONLY}/{dataset}/{system}/{experiment}\", \"r\") as f:\n",
    "                    j = f.read()\n",
    "                    clit_result = ClitResult.from_json(j)\n",
    "            except:\n",
    "                print(\"Can't Parse experiment\", experiment)\n",
    "                continue\n",
    "            task: ExperimentTask\n",
    "            for task in clit_result.experiment_tasks:\n",
    "                document: Document\n",
    "                for document in flat_map(lambda x: x, task.documents):\n",
    "                    text = document.text\n",
    "\n",
    "                    query = f\"\"\"\n",
    "                        SELECT ?context\n",
    "                        WHERE {{\n",
    "                            ?context rdf:type nif:Context .\n",
    "                            ?context nif:isString \"{text}\" .\n",
    "                        }}\n",
    "                    \"\"\"\n",
    "                    print(query)\n",
    "                    res = g.query(query)\n",
    "                    for r in res:\n",
    "                        print(r)\n",
    "                    assert len(res) == 1\n",
    "                    print(res)\n",
    "                    exit()\n",
    "                    mention: Mention\n",
    "                    for mention in document.mentions:\n",
    "                        mention.mention"
   ]
  },
  {
   "cell_type": "code",
   "execution_count": null,
   "metadata": {},
   "outputs": [],
   "source": []
  }
 ],
 "metadata": {
  "kernelspec": {
   "display_name": "kdd-seminar",
   "language": "python",
   "name": "python3"
  },
  "language_info": {
   "codemirror_mode": {
    "name": "ipython",
    "version": 3
   },
   "file_extension": ".py",
   "mimetype": "text/x-python",
   "name": "python",
   "nbconvert_exporter": "python",
   "pygments_lexer": "ipython3",
   "version": "3.12.3"
  }
 },
 "nbformat": 4,
 "nbformat_minor": 2
}
